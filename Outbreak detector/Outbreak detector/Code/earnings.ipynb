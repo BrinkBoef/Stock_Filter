{
 "cells": [
  {
   "cell_type": "code",
   "execution_count": 87,
   "id": "a4dda04d",
   "metadata": {},
   "outputs": [],
   "source": [
    "import yfinance as yf"
   ]
  },
  {
   "cell_type": "code",
   "execution_count": 92,
   "id": "c91ab386",
   "metadata": {},
   "outputs": [
    {
     "data": {
      "text/html": [
       "<div>\n",
       "<style scoped>\n",
       "    .dataframe tbody tr th:only-of-type {\n",
       "        vertical-align: middle;\n",
       "    }\n",
       "\n",
       "    .dataframe tbody tr th {\n",
       "        vertical-align: top;\n",
       "    }\n",
       "\n",
       "    .dataframe thead th {\n",
       "        text-align: right;\n",
       "    }\n",
       "</style>\n",
       "<table border=\"1\" class=\"dataframe\">\n",
       "  <thead>\n",
       "    <tr style=\"text-align: right;\">\n",
       "      <th></th>\n",
       "      <th>EPS Estimate</th>\n",
       "      <th>Reported EPS</th>\n",
       "      <th>Surprise(%)</th>\n",
       "    </tr>\n",
       "    <tr>\n",
       "      <th>Earnings Date</th>\n",
       "      <th></th>\n",
       "      <th></th>\n",
       "      <th></th>\n",
       "    </tr>\n",
       "  </thead>\n",
       "  <tbody>\n",
       "    <tr>\n",
       "      <th>2024-05-02 16:00:00-04:00</th>\n",
       "      <td>1.16</td>\n",
       "      <td>1.50</td>\n",
       "      <td>0.2968</td>\n",
       "    </tr>\n",
       "    <tr>\n",
       "      <th>2024-01-30 17:00:00-05:00</th>\n",
       "      <td>0.98</td>\n",
       "      <td>1.23</td>\n",
       "      <td>0.2509</td>\n",
       "    </tr>\n",
       "    <tr>\n",
       "      <th>2023-10-26 16:00:00-04:00</th>\n",
       "      <td>0.80</td>\n",
       "      <td>0.93</td>\n",
       "      <td>0.1625</td>\n",
       "    </tr>\n",
       "    <tr>\n",
       "      <th>2023-08-10 16:00:00-04:00</th>\n",
       "      <td>0.97</td>\n",
       "      <td>1.03</td>\n",
       "      <td>0.0582</td>\n",
       "    </tr>\n",
       "    <tr>\n",
       "      <th>2023-05-02 16:00:00-04:00</th>\n",
       "      <td>0.91</td>\n",
       "      <td>1.13</td>\n",
       "      <td>0.2372</td>\n",
       "    </tr>\n",
       "    <tr>\n",
       "      <th>2023-02-02 16:00:00-05:00</th>\n",
       "      <td>0.88</td>\n",
       "      <td>1.17</td>\n",
       "      <td>0.3245</td>\n",
       "    </tr>\n",
       "    <tr>\n",
       "      <th>2022-11-03 16:00:00-04:00</th>\n",
       "      <td>0.75</td>\n",
       "      <td>0.88</td>\n",
       "      <td>0.1681</td>\n",
       "    </tr>\n",
       "    <tr>\n",
       "      <th>2022-08-11 16:00:00-04:00</th>\n",
       "      <td>1.25</td>\n",
       "      <td>1.31</td>\n",
       "      <td>0.0452</td>\n",
       "    </tr>\n",
       "  </tbody>\n",
       "</table>\n",
       "</div>"
      ],
      "text/plain": [
       "                           EPS Estimate  Reported EPS  Surprise(%)\n",
       "Earnings Date                                                     \n",
       "2024-05-02 16:00:00-04:00          1.16          1.50       0.2968\n",
       "2024-01-30 17:00:00-05:00          0.98          1.23       0.2509\n",
       "2023-10-26 16:00:00-04:00          0.80          0.93       0.1625\n",
       "2023-08-10 16:00:00-04:00          0.97          1.03       0.0582\n",
       "2023-05-02 16:00:00-04:00          0.91          1.13       0.2372\n",
       "2023-02-02 16:00:00-05:00          0.88          1.17       0.3245\n",
       "2022-11-03 16:00:00-04:00          0.75          0.88       0.1681\n",
       "2022-08-11 16:00:00-04:00          1.25          1.31       0.0452"
      ]
     },
     "execution_count": 92,
     "metadata": {},
     "output_type": "execute_result"
    }
   ],
   "source": [
    "stock = yf.Ticker(\"ATGE\")\n",
    "stock.calendar\n",
    "\n",
    "ES = stock.get_earnings_dates()\n",
    "ES = ES.iloc[4:]\n",
    "ES"
   ]
  },
  {
   "cell_type": "code",
   "execution_count": null,
   "id": "b1e05d84",
   "metadata": {},
   "outputs": [],
   "source": []
  }
 ],
 "metadata": {
  "kernelspec": {
   "display_name": "Python 3 (ipykernel)",
   "language": "python",
   "name": "python3"
  },
  "language_info": {
   "codemirror_mode": {
    "name": "ipython",
    "version": 3
   },
   "file_extension": ".py",
   "mimetype": "text/x-python",
   "name": "python",
   "nbconvert_exporter": "python",
   "pygments_lexer": "ipython3",
   "version": "3.9.13"
  }
 },
 "nbformat": 4,
 "nbformat_minor": 5
}
