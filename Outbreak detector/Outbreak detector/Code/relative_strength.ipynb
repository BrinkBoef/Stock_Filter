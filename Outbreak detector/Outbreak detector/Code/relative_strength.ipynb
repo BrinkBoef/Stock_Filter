{
 "cells": [
  {
   "cell_type": "code",
   "execution_count": 8,
   "id": "db6716ef",
   "metadata": {},
   "outputs": [],
   "source": [
    "import pandas as pd\n",
    "import numpy as np\n",
    "import matplotlib.pyplot as plt\n",
    "import yfinance as yf\n",
    "import datetime\n",
    "from datetime import timedelta\n",
    "from ipywidgets import widgets, interact"
   ]
  },
  {
   "cell_type": "code",
   "execution_count": 9,
   "id": "d821ac12",
   "metadata": {},
   "outputs": [],
   "source": [
    "def calculate_rsi(data, window):\n",
    "    delta = data['Close'].diff(1)\n",
    "    gain = delta.where(delta > 0, 0)\n",
    "    loss = -delta.where(delta < 0, 0)\n",
    "    \n",
    "    avg_gain = gain.rolling(window=window, min_periods=1).mean()\n",
    "    avg_loss = loss.rolling(window=window, min_periods=1).mean()\n",
    "    \n",
    "    rs = avg_gain / avg_loss\n",
    "    rsi = 100 - (100 / (1 + rs))\n",
    "    return rsi\n",
    "\n",
    "def plot_rsi(stock_symbol, rsi_period):\n",
    "    end_date = datetime.datetime.today()\n",
    "    start_date = end_date - timedelta(days=1*365)  # You can adjust the time range as needed\n",
    "    data = yf.download(stock_symbol, start=start_date, end=end_date)\n",
    "    \n",
    "    data['RSI'] = calculate_rsi(data, rsi_period)\n",
    "    \n",
    "    plt.figure(figsize=(12, 8))\n",
    "    plt.plot(data['Close'], label='Close Price')\n",
    "    plt.title(f'{stock_symbol} Stock Price and RSI')\n",
    "    plt.legend(loc='upper left')\n",
    "    \n",
    "    plt.figure(figsize=(12, 4))\n",
    "    plt.plot(data['RSI'], label=f'RSI ({rsi_period} days)')\n",
    "    plt.axhline(70, color='r', linestyle='--')\n",
    "    plt.axhline(80, color='r')\n",
    "    plt.axhline(30, color='g', linestyle='--')\n",
    "    plt.title('Relative Strength Index')\n",
    "    plt.legend(loc='upper left')\n",
    "    plt.show()"
   ]
  },
  {
   "cell_type": "code",
   "execution_count": 10,
   "id": "881a5329",
   "metadata": {},
   "outputs": [
    {
     "data": {
      "application/vnd.jupyter.widget-view+json": {
       "model_id": "7d434f2e2d2b45e383a6a36a299b73e3",
       "version_major": 2,
       "version_minor": 0
      },
      "text/plain": [
       "interactive(children=(Text(value='XRP-EUR', description='Stock Symbol:'), IntSlider(value=14, description='RSI…"
      ]
     },
     "metadata": {},
     "output_type": "display_data"
    },
    {
     "data": {
      "text/plain": [
       "<function __main__.plot_rsi(stock_symbol, rsi_period)>"
      ]
     },
     "execution_count": 10,
     "metadata": {},
     "output_type": "execute_result"
    }
   ],
   "source": [
    "# Interactive input for stock symbol and RSI period\n",
    "interact(plot_rsi, \n",
    "         stock_symbol=widgets.Text(value='XRP-EUR', description='Stock Symbol:'), \n",
    "         rsi_period=widgets.IntSlider(value=14, min=1, max=50, step=1, description='RSI Period:'))"
   ]
  },
  {
   "cell_type": "code",
   "execution_count": null,
   "id": "e36e0859",
   "metadata": {},
   "outputs": [],
   "source": []
  },
  {
   "cell_type": "code",
   "execution_count": null,
   "id": "79796bd1",
   "metadata": {},
   "outputs": [],
   "source": []
  }
 ],
 "metadata": {
  "kernelspec": {
   "display_name": "Python 3 (ipykernel)",
   "language": "python",
   "name": "python3"
  },
  "language_info": {
   "codemirror_mode": {
    "name": "ipython",
    "version": 3
   },
   "file_extension": ".py",
   "mimetype": "text/x-python",
   "name": "python",
   "nbconvert_exporter": "python",
   "pygments_lexer": "ipython3",
   "version": "3.9.13"
  }
 },
 "nbformat": 4,
 "nbformat_minor": 5
}
