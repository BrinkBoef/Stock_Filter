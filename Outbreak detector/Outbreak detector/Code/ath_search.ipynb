{
 "cells": [
  {
   "cell_type": "code",
   "execution_count": 1,
   "id": "54963bf7",
   "metadata": {},
   "outputs": [],
   "source": [
    "import yfinance as yf\n",
    "import matplotlib.pyplot as plt\n",
    "import pandas as pd\n",
    "from datetime import datetime, timedelta\n",
    "import requests\n",
    "from bs4 import BeautifulSoup\n",
    "import numpy as np"
   ]
  },
  {
   "cell_type": "code",
   "execution_count": 2,
   "id": "c27fdb19",
   "metadata": {},
   "outputs": [],
   "source": [
    "def read_tickers(filename):\n",
    "    with open(filename, 'r') as file:\n",
    "        tickers = file.read().splitlines()\n",
    "    return tickers"
   ]
  },
  {
   "cell_type": "code",
   "execution_count": 85,
   "id": "be9b31e8",
   "metadata": {},
   "outputs": [
    {
     "name": "stderr",
     "output_type": "stream",
     "text": [
      "[*********************100%%**********************]  6684 of 6684 completed\n",
      "\n",
      "46 Failed downloads:\n",
      "['RMPL', 'TRTN', 'SEAL', 'ATH', 'CDR', 'ATCO', 'ARGO', 'GLOP', 'I', 'Y', 'OAK']: Exception('%ticker%: No timezone found, symbol may be delisted')\n",
      "['P', 'CRD', 'MER', 'EMP', 'BF', 'EAI', 'SCE', 'Q', 'ANG', 'BML', 'AHL', 'BRK', 'ETI']: Exception('%ticker%: No price data found, symbol may be delisted (1d 2019-07-21 -> 2024-07-19)')\n",
      "['NOVVR', 'CETUR', 'TENKR', 'SFB', 'BUJAR', 'BLEUR', 'GLLIR', 'NNAGR', 'WINVR', 'NVACR', 'AKO', 'RFAIR', 'GLSTR', 'QETAR', 'ALSAR', 'DYCQR', 'GBBKR', 'TMTCR', 'IBACR', 'ESHAR', 'ICR']: Exception(\"%ticker%: Period 'max' is invalid, must be one of ['1d', '5d']\")\n",
      "['N']: Exception('%ticker%: %ticker%o price data found, symbol may be delisted (1d 2019-07-21 -> 2024-07-19)')\n"
     ]
    }
   ],
   "source": [
    "time_range = 5\n",
    "\n",
    "end_date = end_date = datetime.today().strftime('%Y-%m-%d')\n",
    "start_date = (datetime.today() - timedelta(days=time_range * 365)).strftime('%Y-%m-%d')\n",
    "\n",
    "nyse = \"C:/Users/westm/Trading/Market Outbreak/Outbreak detector/Text files of tickers/nyse_tickers.txt\"\n",
    "nasdaq = \"C:/Users/westm/Trading/Market Outbreak/Outbreak detector/Text files of tickers/nasdaq_tickers.txt\"\n",
    "amex = \"C:/Users/westm/Trading/Market Outbreak/Outbreak detector/Text files of tickers/amex_tickers.txt\"\n",
    "\n",
    "# Read tickers from each file\n",
    "nyse_tickers = read_tickers(nyse)\n",
    "nasdaq_tickers = read_tickers(nasdaq)\n",
    "amex_tickers = read_tickers(amex)\n",
    "\n",
    "# Combine all tickers into one list and remove duplicates\n",
    "symbol = list(set(nyse_tickers + nasdaq_tickers + amex_tickers))\n",
    "\n",
    "\n",
    "data = yf.download(symbol, start_date, end_date)"
   ]
  },
  {
   "cell_type": "markdown",
   "id": "458f9224",
   "metadata": {},
   "source": [
    "# Tickers that trade near all time high"
   ]
  },
  {
   "cell_type": "code",
   "execution_count": 86,
   "id": "cbdccf9e",
   "metadata": {},
   "outputs": [],
   "source": [
    "def all_time_high_range(data):\n",
    "    result = []\n",
    "    threshold = 0.2\n",
    "    for ticker in data.columns.levels[1]:\n",
    "        try:\n",
    "            max_price = data['Close'][ticker].max()\n",
    "            latest_close = data['Close'][ticker].iloc[-1]\n",
    "            if latest_close <= (1+threshold/2) * max_price and latest_close >= (1-threshold) * max_price:\n",
    "                result.append(ticker)\n",
    "        except Exception as e:\n",
    "            print(f\"Error processing {ticker}: {e}\")\n",
    "    return result\n",
    "\n",
    "# Find tickers that meet the criteria\n",
    "tickers_ath = all_time_high_range(data)\n",
    "\n",
    "\n",
    "    "
   ]
  },
  {
   "cell_type": "code",
   "execution_count": 87,
   "id": "943deed9",
   "metadata": {},
   "outputs": [
    {
     "name": "stdout",
     "output_type": "stream",
     "text": [
      "2006\n"
     ]
    }
   ],
   "source": [
    "print(len(tickers_ath))"
   ]
  },
  {
   "cell_type": "markdown",
   "id": "b7483c71",
   "metadata": {},
   "source": [
    "# Tickers that trade above 10 dollar and have less than 50 million shares out"
   ]
  },
  {
   "cell_type": "code",
   "execution_count": 88,
   "id": "2c6f0139",
   "metadata": {},
   "outputs": [
    {
     "name": "stderr",
     "output_type": "stream",
     "text": [
      "500 Server Error: Internal Server Error for url: https://query2.finance.yahoo.com/v10/finance/quoteSummary/IRAAU?modules=financialData%2CquoteType%2CdefaultKeyStatistics%2CassetProfile%2CsummaryDetail&corsDomain=finance.yahoo.com&formatted=false&symbol=IRAAU&crumb=vayKfgNoZhl\n",
      "500 Server Error: Internal Server Error for url: https://query2.finance.yahoo.com/v10/finance/quoteSummary/IRM?modules=financialData%2CquoteType%2CdefaultKeyStatistics%2CassetProfile%2CsummaryDetail&corsDomain=finance.yahoo.com&formatted=false&symbol=IRM&crumb=vayKfgNoZhl\n",
      "404 Client Error: Not Found for url: https://query2.finance.yahoo.com/v10/finance/quoteSummary/KARO?modules=financialData%2CquoteType%2CdefaultKeyStatistics%2CassetProfile%2CsummaryDetail&corsDomain=finance.yahoo.com&formatted=false&symbol=KARO&crumb=vayKfgNoZhl\n"
     ]
    },
    {
     "name": "stdout",
     "output_type": "stream",
     "text": [
      "Error processing KARO: Failed to parse json response from Yahoo Finance: {'code': 'Not Found', 'description': 'Failed to generate key for symbol=KARO and type=[TRAILING_PEG_RATIO]'}\n"
     ]
    },
    {
     "name": "stderr",
     "output_type": "stream",
     "text": [
      "500 Server Error: Internal Server Error for url: https://query2.finance.yahoo.com/v10/finance/quoteSummary/KDLYW?modules=financialData%2CquoteType%2CdefaultKeyStatistics%2CassetProfile%2CsummaryDetail&corsDomain=finance.yahoo.com&formatted=false&symbol=KDLYW&crumb=vayKfgNoZhl\n",
      "500 Server Error: Internal Server Error for url: https://query2.finance.yahoo.com/v10/finance/quoteSummary/KFY?modules=financialData%2CquoteType%2CdefaultKeyStatistics%2CassetProfile%2CsummaryDetail&corsDomain=finance.yahoo.com&formatted=false&symbol=KFY&crumb=vayKfgNoZhl\n",
      "500 Server Error: Internal Server Error for url: https://query2.finance.yahoo.com/v10/finance/quoteSummary/LAMR?modules=financialData%2CquoteType%2CdefaultKeyStatistics%2CassetProfile%2CsummaryDetail&corsDomain=finance.yahoo.com&formatted=false&symbol=LAMR&crumb=vayKfgNoZhl\n"
     ]
    },
    {
     "name": "stdout",
     "output_type": "stream",
     "text": [
      "Error processing LAMR: Failed to parse json response from Yahoo Finance: {'code': 'Not Found', 'description': 'Failed to generate key for symbol=LAMR and type=[TRAILING_PEG_RATIO]'}\n"
     ]
    },
    {
     "name": "stderr",
     "output_type": "stream",
     "text": [
      "500 Server Error: Internal Server Error for url: https://query2.finance.yahoo.com/v10/finance/quoteSummary/LB?modules=financialData%2CquoteType%2CdefaultKeyStatistics%2CassetProfile%2CsummaryDetail&corsDomain=finance.yahoo.com&formatted=false&symbol=LB&crumb=vayKfgNoZhl\n",
      "500 Server Error: Internal Server Error for url: https://query2.finance.yahoo.com/v10/finance/quoteSummary/LMAT?modules=financialData%2CquoteType%2CdefaultKeyStatistics%2CassetProfile%2CsummaryDetail&corsDomain=finance.yahoo.com&formatted=false&symbol=LMAT&crumb=vayKfgNoZhl\n",
      "500 Server Error: Internal Server Error for url: https://query2.finance.yahoo.com/v10/finance/quoteSummary/LMNR?modules=financialData%2CquoteType%2CdefaultKeyStatistics%2CassetProfile%2CsummaryDetail&corsDomain=finance.yahoo.com&formatted=false&symbol=LMNR&crumb=vayKfgNoZhl\n"
     ]
    },
    {
     "name": "stdout",
     "output_type": "stream",
     "text": [
      "Error processing LMNR: Failed to parse json response from Yahoo Finance: {'code': 'Not Found', 'description': 'Failed to generate key for symbol=LMNR and type=[TRAILING_PEG_RATIO]'}\n"
     ]
    },
    {
     "name": "stderr",
     "output_type": "stream",
     "text": [
      "500 Server Error: Internal Server Error for url: https://query2.finance.yahoo.com/v10/finance/quoteSummary/LOAR?modules=financialData%2CquoteType%2CdefaultKeyStatistics%2CassetProfile%2CsummaryDetail&corsDomain=finance.yahoo.com&formatted=false&symbol=LOAR&crumb=vayKfgNoZhl\n",
      "500 Server Error: Internal Server Error for url: https://query2.finance.yahoo.com/v10/finance/quoteSummary/MAQC?modules=financialData%2CquoteType%2CdefaultKeyStatistics%2CassetProfile%2CsummaryDetail&corsDomain=finance.yahoo.com&formatted=false&symbol=MAQC&crumb=vayKfgNoZhl\n",
      "500 Server Error: Internal Server Error for url: https://query2.finance.yahoo.com/v10/finance/quoteSummary/MBC?modules=financialData%2CquoteType%2CdefaultKeyStatistics%2CassetProfile%2CsummaryDetail&corsDomain=finance.yahoo.com&formatted=false&symbol=MBC&crumb=vayKfgNoZhl\n"
     ]
    },
    {
     "name": "stdout",
     "output_type": "stream",
     "text": [
      "Error processing MBC: Failed to parse json response from Yahoo Finance: {'code': 'Not Found', 'description': 'Failed to generate key for symbol=MBC and type=[TRAILING_PEG_RATIO]'}\n"
     ]
    },
    {
     "name": "stderr",
     "output_type": "stream",
     "text": [
      "500 Server Error: Internal Server Error for url: https://query2.finance.yahoo.com/v10/finance/quoteSummary/META?modules=financialData%2CquoteType%2CdefaultKeyStatistics%2CassetProfile%2CsummaryDetail&corsDomain=finance.yahoo.com&formatted=false&symbol=META&crumb=vayKfgNoZhl\n",
      "500 Server Error: Internal Server Error for url: https://query2.finance.yahoo.com/v10/finance/quoteSummary/MGEE?modules=financialData%2CquoteType%2CdefaultKeyStatistics%2CassetProfile%2CsummaryDetail&corsDomain=finance.yahoo.com&formatted=false&symbol=MGEE&crumb=vayKfgNoZhl\n"
     ]
    }
   ],
   "source": [
    "def filter_tickers(tickers):\n",
    "    filtered_tickers = []\n",
    "    for ticker in tickers:\n",
    "        try:\n",
    "            stock = yf.Ticker(ticker)\n",
    "            latest_close = data['Close'][ticker].iloc[-1]\n",
    "            shares_outstanding = stock.info.get('sharesOutstanding', None)\n",
    "            if latest_close >= 10 and (shares_outstanding is not None and shares_outstanding <= 50000000):\n",
    "                filtered_tickers.append(ticker)\n",
    "        except Exception as e:\n",
    "            print(f\"Error processing {ticker}: {e}\")\n",
    "    return filtered_tickers\n",
    "\n",
    "# Apply the additional filters\n",
    "tickers_filtered = filter_tickers(tickers_ath)"
   ]
  },
  {
   "cell_type": "code",
   "execution_count": 89,
   "id": "10d5c350",
   "metadata": {},
   "outputs": [
    {
     "name": "stdout",
     "output_type": "stream",
     "text": [
      "628\n"
     ]
    }
   ],
   "source": [
    "print(len(tickers_filtered))"
   ]
  },
  {
   "cell_type": "markdown",
   "id": "be0311ce",
   "metadata": {},
   "source": [
    "# Tickers with a strong RSI (momentum)"
   ]
  },
  {
   "cell_type": "code",
   "execution_count": 90,
   "id": "283d2620",
   "metadata": {},
   "outputs": [],
   "source": [
    "# Function to calculate RSI\n",
    "def calculate_rsi(data, window=14):\n",
    "    delta = data.diff()\n",
    "    gain = (delta.where(delta > 0, 0)).fillna(0)\n",
    "    loss = (-delta.where(delta < 0, 0)).fillna(0)\n",
    "    avg_gain = gain.rolling(window=window, min_periods=1).mean()\n",
    "    avg_loss = loss.rolling(window=window, min_periods=1).mean()\n",
    "    rs = avg_gain / avg_loss\n",
    "    rsi = 100 - (100 / (1 + rs))\n",
    "    return rsi\n",
    "\n",
    "def filter_rsi(tickers, data, rsi_threshold=80):\n",
    "    filtered_tickers = []\n",
    "    for ticker in tickers:\n",
    "        try:\n",
    "            rsi = calculate_rsi(data['Close'][ticker]).iloc[-1]\n",
    "            if rsi >= rsi_threshold:\n",
    "                filtered_tickers.append(ticker)\n",
    "        except Exception as e:\n",
    "            print(f\"Error processing {ticker}: {e}\")\n",
    "    return filtered_tickers\n",
    "\n",
    "tickers_with_high_rsi = filter_rsi(tickers_filtered, data)"
   ]
  },
  {
   "cell_type": "code",
   "execution_count": 91,
   "id": "e445ddba",
   "metadata": {},
   "outputs": [
    {
     "name": "stdout",
     "output_type": "stream",
     "text": [
      "77\n"
     ]
    }
   ],
   "source": [
    "print(len(tickers_with_high_rsi))"
   ]
  },
  {
   "cell_type": "markdown",
   "id": "4a7096a8",
   "metadata": {},
   "source": [
    "# Tickers with earning beats"
   ]
  },
  {
   "cell_type": "code",
   "execution_count": 92,
   "id": "636a5e70",
   "metadata": {},
   "outputs": [
    {
     "name": "stderr",
     "output_type": "stream",
     "text": [
      "AEAE: No earnings dates found, symbol may be delisted\n"
     ]
    },
    {
     "name": "stdout",
     "output_type": "stream",
     "text": [
      "Error processing AEAE: 'NoneType' object has no attribute 'iloc'\n"
     ]
    },
    {
     "name": "stderr",
     "output_type": "stream",
     "text": [
      "AQU: No earnings dates found, symbol may be delisted\n"
     ]
    },
    {
     "name": "stdout",
     "output_type": "stream",
     "text": [
      "Error processing AQU: 'NoneType' object has no attribute 'iloc'\n"
     ]
    },
    {
     "name": "stderr",
     "output_type": "stream",
     "text": [
      "ARYD: No earnings dates found, symbol may be delisted\n"
     ]
    },
    {
     "name": "stdout",
     "output_type": "stream",
     "text": [
      "Error processing ARYD: 'NoneType' object has no attribute 'iloc'\n"
     ]
    },
    {
     "name": "stderr",
     "output_type": "stream",
     "text": [
      "BLEU: No earnings dates found, symbol may be delisted\n"
     ]
    },
    {
     "name": "stdout",
     "output_type": "stream",
     "text": [
      "Error processing BLEU: 'NoneType' object has no attribute 'iloc'\n"
     ]
    },
    {
     "name": "stderr",
     "output_type": "stream",
     "text": [
      "CLOE: No earnings dates found, symbol may be delisted\n"
     ]
    },
    {
     "name": "stdout",
     "output_type": "stream",
     "text": [
      "Error processing CLOE: 'NoneType' object has no attribute 'iloc'\n"
     ]
    },
    {
     "name": "stderr",
     "output_type": "stream",
     "text": [
      "CPBI: No earnings dates found, symbol may be delisted\n"
     ]
    },
    {
     "name": "stdout",
     "output_type": "stream",
     "text": [
      "Error processing CPBI: 'NoneType' object has no attribute 'iloc'\n"
     ]
    },
    {
     "name": "stderr",
     "output_type": "stream",
     "text": [
      "FSUN: No earnings dates found, symbol may be delisted\n"
     ]
    },
    {
     "name": "stdout",
     "output_type": "stream",
     "text": [
      "Error processing FSUN: 'NoneType' object has no attribute 'iloc'\n"
     ]
    },
    {
     "name": "stderr",
     "output_type": "stream",
     "text": [
      "GTAC: No earnings dates found, symbol may be delisted\n"
     ]
    },
    {
     "name": "stdout",
     "output_type": "stream",
     "text": [
      "Error processing GTAC: 'NoneType' object has no attribute 'iloc'\n"
     ]
    },
    {
     "name": "stderr",
     "output_type": "stream",
     "text": [
      "IIF: No earnings dates found, symbol may be delisted\n"
     ]
    },
    {
     "name": "stdout",
     "output_type": "stream",
     "text": [
      "Error processing IIF: 'NoneType' object has no attribute 'iloc'\n"
     ]
    },
    {
     "name": "stderr",
     "output_type": "stream",
     "text": [
      "INTE: No earnings dates found, symbol may be delisted\n"
     ]
    },
    {
     "name": "stdout",
     "output_type": "stream",
     "text": [
      "Error processing INTE: 'NoneType' object has no attribute 'iloc'\n"
     ]
    },
    {
     "name": "stderr",
     "output_type": "stream",
     "text": [
      "IVCP: No earnings dates found, symbol may be delisted\n"
     ]
    },
    {
     "name": "stdout",
     "output_type": "stream",
     "text": [
      "Error processing IVCP: 'NoneType' object has no attribute 'iloc'\n"
     ]
    },
    {
     "name": "stderr",
     "output_type": "stream",
     "text": [
      "KVAC: No earnings dates found, symbol may be delisted\n"
     ]
    },
    {
     "name": "stdout",
     "output_type": "stream",
     "text": [
      "Error processing KVAC: 'NoneType' object has no attribute 'iloc'\n"
     ]
    },
    {
     "name": "stderr",
     "output_type": "stream",
     "text": [
      "LEGT: No earnings dates found, symbol may be delisted\n"
     ]
    },
    {
     "name": "stdout",
     "output_type": "stream",
     "text": [
      "Error processing LEGT: 'NoneType' object has no attribute 'iloc'\n"
     ]
    },
    {
     "name": "stderr",
     "output_type": "stream",
     "text": [
      "MITA: No earnings dates found, symbol may be delisted\n"
     ]
    },
    {
     "name": "stdout",
     "output_type": "stream",
     "text": [
      "Error processing MITA: 'NoneType' object has no attribute 'iloc'\n"
     ]
    },
    {
     "name": "stderr",
     "output_type": "stream",
     "text": [
      "PBBK: No earnings dates found, symbol may be delisted\n"
     ]
    },
    {
     "name": "stdout",
     "output_type": "stream",
     "text": [
      "Error processing PBBK: 'NoneType' object has no attribute 'iloc'\n"
     ]
    },
    {
     "name": "stderr",
     "output_type": "stream",
     "text": [
      "RFAC: No earnings dates found, symbol may be delisted\n"
     ]
    },
    {
     "name": "stdout",
     "output_type": "stream",
     "text": [
      "Error processing RFAC: 'NoneType' object has no attribute 'iloc'\n"
     ]
    },
    {
     "name": "stderr",
     "output_type": "stream",
     "text": [
      "ROCL: No earnings dates found, symbol may be delisted\n"
     ]
    },
    {
     "name": "stdout",
     "output_type": "stream",
     "text": [
      "Error processing ROCL: 'NoneType' object has no attribute 'iloc'\n"
     ]
    },
    {
     "name": "stderr",
     "output_type": "stream",
     "text": [
      "TRIS: No earnings dates found, symbol may be delisted\n"
     ]
    },
    {
     "name": "stdout",
     "output_type": "stream",
     "text": [
      "Error processing TRIS: 'NoneType' object has no attribute 'iloc'\n"
     ]
    },
    {
     "name": "stderr",
     "output_type": "stream",
     "text": [
      "TRTL: No earnings dates found, symbol may be delisted\n"
     ]
    },
    {
     "name": "stdout",
     "output_type": "stream",
     "text": [
      "Error processing TRTL: 'NoneType' object has no attribute 'iloc'\n"
     ]
    },
    {
     "name": "stderr",
     "output_type": "stream",
     "text": [
      "ZLS: No earnings dates found, symbol may be delisted\n"
     ]
    },
    {
     "name": "stdout",
     "output_type": "stream",
     "text": [
      "Error processing ZLS: 'NoneType' object has no attribute 'iloc'\n"
     ]
    }
   ],
   "source": [
    "def get_positive_surprise_tickers(tickers, quarters=4):\n",
    "    positive_surprise_tickers = []\n",
    "\n",
    "    for ticker in tickers:\n",
    "        try:\n",
    "            stock = yf.Ticker(ticker)\n",
    "            earnings_dates = stock.get_earnings_dates()\n",
    "\n",
    "            # Get the most recent quarters' earnings data\n",
    "            recent_earnings = earnings_dates.iloc[quarters:]\n",
    "            \n",
    "            # Check if all the surprises are positive\n",
    "            if all(recent_earnings['Surprise(%)'] > 0):\n",
    "                positive_surprise_tickers.append(ticker)\n",
    "                \n",
    "        except Exception as e:\n",
    "            print(f\"Error processing {ticker}: {e}\")\n",
    "\n",
    "    return positive_surprise_tickers\n",
    "\n",
    "tickers_with_positive_surprise = get_positive_surprise_tickers(tickers_with_high_rsi)"
   ]
  },
  {
   "cell_type": "code",
   "execution_count": 93,
   "id": "ebb9dcbb",
   "metadata": {},
   "outputs": [
    {
     "name": "stdout",
     "output_type": "stream",
     "text": [
      "13\n"
     ]
    }
   ],
   "source": [
    "print(len(tickers_with_positive_surprise))"
   ]
  },
  {
   "cell_type": "code",
   "execution_count": 94,
   "id": "fc48762f",
   "metadata": {},
   "outputs": [
    {
     "data": {
      "text/plain": [
       "['ATGE',\n",
       " 'BCPC',\n",
       " 'BY',\n",
       " 'CFB',\n",
       " 'DEC',\n",
       " 'EGP',\n",
       " 'IDCC',\n",
       " 'KAI',\n",
       " 'LENZ',\n",
       " 'NBBK',\n",
       " 'OFG',\n",
       " 'PFBC',\n",
       " 'PHIN']"
      ]
     },
     "execution_count": 94,
     "metadata": {},
     "output_type": "execute_result"
    }
   ],
   "source": [
    "tickers_with_positive_surprise"
   ]
  },
  {
   "cell_type": "code",
   "execution_count": null,
   "id": "eb5af8fe",
   "metadata": {},
   "outputs": [],
   "source": [
    "#PHIN, KAI, IDCC"
   ]
  }
 ],
 "metadata": {
  "kernelspec": {
   "display_name": "Python 3 (ipykernel)",
   "language": "python",
   "name": "python3"
  },
  "language_info": {
   "codemirror_mode": {
    "name": "ipython",
    "version": 3
   },
   "file_extension": ".py",
   "mimetype": "text/x-python",
   "name": "python",
   "nbconvert_exporter": "python",
   "pygments_lexer": "ipython3",
   "version": "3.9.13"
  }
 },
 "nbformat": 4,
 "nbformat_minor": 5
}
